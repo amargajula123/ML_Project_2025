{
 "cells": [
  {
   "cell_type": "code",
   "execution_count": 1,
   "metadata": {},
   "outputs": [],
   "source": [
    "model_file_path = r\"C:\\Users\\gajula Amar\\python_ALL_projects\\ML_Project_2025\\config\\model.yaml\""
   ]
  },
  {
   "cell_type": "code",
   "execution_count": 7,
   "metadata": {},
   "outputs": [],
   "source": [
    "import yaml"
   ]
  },
  {
   "cell_type": "code",
   "execution_count": 21,
   "metadata": {},
   "outputs": [],
   "source": [
    "\n",
    "def read_yaml_file(file_path:str)->dict:\n",
    "      with open(file_path,\"rb\") as yaml_file:\n",
    "          return yaml.safe_load(yaml_file)\n",
    "    "
   ]
  },
  {
   "cell_type": "code",
   "execution_count": 22,
   "metadata": {},
   "outputs": [],
   "source": [
    "d = read_yaml_file(file_path=model_file_path)"
   ]
  },
  {
   "cell_type": "code",
   "execution_count": 23,
   "metadata": {},
   "outputs": [
    {
     "data": {
      "text/plain": [
       "{'grid_search': {'class': 'GridSearchCV',\n",
       "  'module': 'sklearn.model_selection',\n",
       "  'params': {'cv': 5, 'verbose': 2}},\n",
       " 'model_selection': {'module_0': {'class': 'LinearRegression',\n",
       "   'module': 'sklearn.linear_model',\n",
       "   'params': {'fit_intercept': True},\n",
       "   'search_param_grid': {'fit_intercept': [True, False]}},\n",
       "  'module_1': {'class': 'RandomForestRegressor',\n",
       "   'module': 'sklearn.ensemble',\n",
       "   'params': {'min_samples_leaf': 3},\n",
       "   'search_param_grid': {'min_samples_leaf': [4, 6, 12],\n",
       "    'n_estimators': [100, 200]}}}}"
      ]
     },
     "execution_count": 23,
     "metadata": {},
     "output_type": "execute_result"
    }
   ],
   "source": [
    "d"
   ]
  },
  {
   "cell_type": "code",
   "execution_count": 20,
   "metadata": {},
   "outputs": [
    {
     "data": {
      "text/plain": [
       "{'class': 'GridSearchCV',\n",
       " 'module': 'sklearn.model_selection',\n",
       " 'params': {'cv': 5, 'verbose': 2}}"
      ]
     },
     "execution_count": 20,
     "metadata": {},
     "output_type": "execute_result"
    }
   ],
   "source": [
    "d['grid_search']"
   ]
  },
  {
   "cell_type": "code",
   "execution_count": 24,
   "metadata": {},
   "outputs": [],
   "source": [
    "import os"
   ]
  },
  {
   "cell_type": "code",
   "execution_count": 26,
   "metadata": {},
   "outputs": [
    {
     "data": {
      "text/plain": [
       "'config\\\\model.yaml'"
      ]
     },
     "execution_count": 26,
     "metadata": {},
     "output_type": "execute_result"
    }
   ],
   "source": [
    "os.path.join(\"config\",\"model.yaml\")"
   ]
  },
  {
   "cell_type": "code",
   "execution_count": 27,
   "metadata": {},
   "outputs": [
    {
     "data": {
      "text/plain": [
       "'c:\\\\Users\\\\gajula Amar\\\\python_ALL_projects\\\\ML_Project_2025\\\\notebook'"
      ]
     },
     "execution_count": 27,
     "metadata": {},
     "output_type": "execute_result"
    }
   ],
   "source": [
    "pwd"
   ]
  },
  {
   "cell_type": "code",
   "execution_count": 28,
   "metadata": {},
   "outputs": [],
   "source": [
    "os.chdir(\"c:\\\\Users\\\\gajula Amar\\\\python_ALL_projects\\\\ML_Project_2025\")"
   ]
  },
  {
   "cell_type": "code",
   "execution_count": 36,
   "metadata": {},
   "outputs": [],
   "source": [
    "ROOT_DIR= \"c:\\\\Users\\\\gajula Amar\\\\python_ALL_projects\\\\ML_Project_2025\""
   ]
  },
  {
   "cell_type": "code",
   "execution_count": 31,
   "metadata": {},
   "outputs": [
    {
     "data": {
      "text/plain": [
       "'housing\\\\artifact'"
      ]
     },
     "execution_count": 31,
     "metadata": {},
     "output_type": "execute_result"
    }
   ],
   "source": [
    "artifact_dir = os.path.join(\"housing\",\"artifact\")\n",
    "artifact_dir"
   ]
  },
  {
   "cell_type": "code",
   "execution_count": 38,
   "metadata": {},
   "outputs": [
    {
     "data": {
      "text/plain": [
       "'c:\\\\Users\\\\gajula Amar\\\\python_ALL_projects\\\\ML_Project_2025\\\\housing\\\\artifact'"
      ]
     },
     "execution_count": 38,
     "metadata": {},
     "output_type": "execute_result"
    }
   ],
   "source": [
    "artifact_dir = os.path.join(ROOT_DIR,artifact_dir)\n",
    "artifact_dir"
   ]
  },
  {
   "cell_type": "code",
   "execution_count": 40,
   "metadata": {},
   "outputs": [
    {
     "data": {
      "text/plain": [
       "'c:\\\\Users\\\\gajula Amar\\\\python_ALL_projects\\\\ML_Project_2025\\\\housing\\\\artifact\\\\model_trainer\\\\12-23-2355'"
      ]
     },
     "execution_count": 40,
     "metadata": {},
     "output_type": "execute_result"
    }
   ],
   "source": [
    "MODEL_TRAINER_ARTIFACT_DIR = \"model_trainer\"\n",
    "model_trainer_artifact_dir =os.path.join(\n",
    "                artifact_dir,\n",
    "                MODEL_TRAINER_ARTIFACT_DIR,\n",
    "                \"12-23-2355\"\n",
    "            )\n",
    "model_trainer_artifact_dir"
   ]
  },
  {
   "cell_type": "code",
   "execution_count": 42,
   "metadata": {},
   "outputs": [
    {
     "data": {
      "text/plain": [
       "'c:\\\\Users\\\\gajula Amar\\\\python_ALL_projects\\\\ML_Project_2025\\\\housing\\\\artifact\\\\model_trainer\\\\12-23-2355\\\\trained_model\\\\model.pkl'"
      ]
     },
     "execution_count": 42,
     "metadata": {},
     "output_type": "execute_result"
    }
   ],
   "source": [
    "\n",
    "trained_model_file_path = os.path.join(\n",
    "                model_trainer_artifact_dir,\n",
    "                \"trained_model\",\n",
    "                \"model.pkl\"\n",
    "            )\n",
    "trained_model_file_path"
   ]
  },
  {
   "cell_type": "code",
   "execution_count": 1,
   "metadata": {},
   "outputs": [
    {
     "ename": "ModuleNotFoundError",
     "evalue": "No module named 'housing.entity'",
     "output_type": "error",
     "traceback": [
      "\u001b[1;31m---------------------------------------------------------------------------\u001b[0m",
      "\u001b[1;31mModuleNotFoundError\u001b[0m                       Traceback (most recent call last)",
      "\u001b[1;32mC:\\conda_tmp\\ipykernel_1320\\3695208693.py\u001b[0m in \u001b[0;36m<module>\u001b[1;34m\u001b[0m\n\u001b[1;32m----> 1\u001b[1;33m \u001b[1;32mfrom\u001b[0m \u001b[0mhousing\u001b[0m\u001b[1;33m.\u001b[0m\u001b[0mentity\u001b[0m\u001b[1;33m.\u001b[0m\u001b[0mmodel_factory\u001b[0m \u001b[1;32mimport\u001b[0m \u001b[0mModelFactory\u001b[0m\u001b[1;33m\u001b[0m\u001b[0m\n\u001b[0m",
      "\u001b[1;31mModuleNotFoundError\u001b[0m: No module named 'housing.entity'"
     ]
    }
   ],
   "source": [
    "from housing.entity.model_factory import ModelFactory"
   ]
  },
  {
   "cell_type": "code",
   "execution_count": null,
   "metadata": {},
   "outputs": [],
   "source": []
  }
 ],
 "metadata": {
  "kernelspec": {
   "display_name": "Python 3",
   "language": "python",
   "name": "python3"
  },
  "language_info": {
   "codemirror_mode": {
    "name": "ipython",
    "version": 3
   },
   "file_extension": ".py",
   "mimetype": "text/x-python",
   "name": "python",
   "nbconvert_exporter": "python",
   "pygments_lexer": "ipython3",
   "version": "3.7.0"
  }
 },
 "nbformat": 4,
 "nbformat_minor": 2
}
