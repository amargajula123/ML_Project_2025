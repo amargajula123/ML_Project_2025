{
 "cells": [
  {
   "cell_type": "code",
   "execution_count": 4,
   "metadata": {},
   "outputs": [],
   "source": [
    "from collections import namedtuple"
   ]
  },
  {
   "cell_type": "code",
   "execution_count": null,
   "metadata": {},
   "outputs": [],
   "source": [
    "1. Download url\n",
    "2. Downnload folder (compressed File)\n",
    "3. Extract folder (extract file)\n",
    "4. Train dataset folder\n",
    "5. Test dataset folder \n",
    "\n",
    "# these many components we are specify for our DataIngestionConfig"
   ]
  },
  {
   "cell_type": "code",
   "execution_count": null,
   "metadata": {},
   "outputs": [],
   "source": []
  },
  {
   "cell_type": "code",
   "execution_count": 5,
   "metadata": {},
   "outputs": [],
   "source": [
    "# namedtuple accepts 2 parameters 1 parameter is same what we are assigning\n",
    "# dataset_download_url: url for my dataset  \n",
    "# tgz_download_dir : location for where you have to set\n",
    "# raw_data_dir : its zip file  raw data exctract the zip file\n",
    "\n",
    "DataIngestionConfig = namedtuple(\"DataIngestionConfig\",\n",
    "                                 [\"dataset_download_url\",\"tgz_download_dir\",\"raw_data_dir\",\"ingested_train_dir\",\"ingested_test_dir\"])"
   ]
  },
  {
   "cell_type": "code",
   "execution_count": 8,
   "metadata": {},
   "outputs": [
    {
     "data": {
      "text/plain": [
       "DataIngestionConfig(dataset_download_url='amar_url', tgz_download_dir='location_file', raw_data_dir='extract_it', ingested_train_dir='train_dir_data', ingested_test_dir='test_dir_data')"
      ]
     },
     "execution_count": 8,
     "metadata": {},
     "output_type": "execute_result"
    }
   ],
   "source": [
    "data_ingestion_confif=DataIngestionConfig(dataset_download_url=\"amar_url\",tgz_download_dir=\"location_file\",\n",
    "                    raw_data_dir=\"extract_it\",ingested_test_dir=\"test_dir_data\",\n",
    "                    ingested_train_dir=\"train_dir_data\"\n",
    "                    \n",
    "                    )\n",
    "\n",
    "data_ingestion_confif"
   ]
  },
  {
   "cell_type": "code",
   "execution_count": null,
   "metadata": {},
   "outputs": [],
   "source": []
  },
  {
   "cell_type": "code",
   "execution_count": null,
   "metadata": {},
   "outputs": [],
   "source": []
  },
  {
   "cell_type": "code",
   "execution_count": null,
   "metadata": {},
   "outputs": [],
   "source": []
  },
  {
   "cell_type": "code",
   "execution_count": null,
   "metadata": {},
   "outputs": [],
   "source": []
  },
  {
   "cell_type": "code",
   "execution_count": null,
   "metadata": {},
   "outputs": [],
   "source": []
  }
 ],
 "metadata": {
  "kernelspec": {
   "display_name": "Python 3",
   "language": "python",
   "name": "python3"
  },
  "language_info": {
   "codemirror_mode": {
    "name": "ipython",
    "version": 3
   },
   "file_extension": ".py",
   "mimetype": "text/x-python",
   "name": "python",
   "nbconvert_exporter": "python",
   "pygments_lexer": "ipython3",
   "version": "3.7.0"
  }
 },
 "nbformat": 4,
 "nbformat_minor": 2
}
